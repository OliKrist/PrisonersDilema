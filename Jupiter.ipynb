{
 "cells": [
  {
   "cell_type": "code",
   "execution_count": 21,
   "metadata": {},
   "outputs": [
    {
     "ename": "IndentationError",
     "evalue": "expected an indented block after function definition on line 20 (Temp/ipykernel_21252/1367750444.py, line 23)",
     "output_type": "error",
     "traceback": [
      "\u001b[1;36m  File \u001b[1;32m\"C:\\Users\\oli\\AppData\\Local\\Temp/ipykernel_21252/1367750444.py\"\u001b[1;36m, line \u001b[1;32m23\u001b[0m\n\u001b[1;33m    class Prisoner:\u001b[0m\n\u001b[1;37m                   ^\u001b[0m\n\u001b[1;31mIndentationError\u001b[0m\u001b[1;31m:\u001b[0m expected an indented block after function definition on line 20\n"
     ]
    }
   ],
   "source": [
    "from numbers import Number\n",
    "import random\n",
    "import matplotlib.pyplot as plt\n",
    "from secrets import choice\n",
    "\n",
    "from torch import rand\n",
    "\n",
    "\n",
    "class Box:\n",
    "    def __init__(self, Number, PrisonerNumber):\n",
    "        self.Number = Number\n",
    "        self.PrisonerNumber = PrisonerNumber\n",
    "        self.Opened = False\n",
    "\n",
    "    def __str__(self):\n",
    "        return \"Box: \" + str(self.Number) + \" Prisoner: \" + str(self.PrisonerNumber)\n",
    "\n",
    "\n",
    "class Boxes(list):\n",
    "    def __init__(self, qty):\n",
    "        \n",
    "\n",
    "class Prisoner:\n",
    "    def __init__(self, Number):\n",
    "        self.Number = Number\n",
    "        self.Tries = 0\n",
    "        self.Success = False\n",
    "\n",
    "    def __str__(self):\n",
    "        return \"Prisoner: \" + str(self.Number) + \" Tries: \" + str(self.Tries)\n",
    "\n",
    "\n",
    "def FillChoices(qty):\n",
    "    choices = []\n",
    "    for i in range(qty):\n",
    "        choices.append(i+1)\n",
    "    return choices\n"
   ]
  },
  {
   "cell_type": "code",
   "execution_count": 17,
   "metadata": {},
   "outputs": [],
   "source": [
    "def Setting(Qty):\n",
    "    Prisoners = []\n",
    "    Boxes = []\n",
    "    AssignedNumbers = []\n",
    "    n = 1\n",
    "\n",
    "    while n <= Qty:\n",
    "        Prisoners.append(Prisoner(n))\n",
    "        n += 1\n",
    "    n = 1\n",
    "\n",
    "    while n <= Qty:\n",
    "        x = random.randint(1, Qty)\n",
    "\n",
    "        if x not in AssignedNumbers:\n",
    "            Boxes.append(Box(n, x))\n",
    "            AssignedNumbers.append(x)\n",
    "            n += 1\n",
    "    return Prisoners, Boxes\n"
   ]
  },
  {
   "cell_type": "code",
   "execution_count": null,
   "metadata": {},
   "outputs": [],
   "source": [
    "## Old Strategy\n",
    "\n",
    "def TestOldTheory(Qty):\n",
    "    Settings = Setting(Qty)\n",
    "\n",
    "    Prisoners = Settings[0]\n",
    "    Boxes = Settings[1]\n",
    "\n",
    "    for prisoner in Prisoners:\n",
    "        for box in Boxes:\n",
    "            box.Opened = False\n",
    "        success = False\n",
    "        while not success:\n",
    "            myChoice = random.choice(Boxes)\n",
    "            if myChoice.Opened == False:\n",
    "                prisoner.Tries += 1\n",
    "                if myChoice.PrisonerNumber == prisoner.Number:\n",
    "                    success = True\n",
    "                    break\n",
    "                else:\n",
    "                    myChoice.Opened = True\n",
    "                    continue\n",
    "        # print(f\"{prisoner.Number} tried {prisoner.Tries} times.\")\n"
   ]
  },
  {
   "cell_type": "code",
   "execution_count": 18,
   "metadata": {},
   "outputs": [],
   "source": [
    "## New Strategy\n",
    "\n",
    "def TestTheory(Qty):\n",
    "    Settings = Setting(Qty)\n",
    "\n",
    "    Prisoners = Settings[0]\n",
    "    Boxes = Settings[1]\n",
    "    \n",
    "    for prisoner in Prisoners:\n",
    "        myChoice = Boxes[prisoner.Number-1]\n",
    "        while not prisoner.Success:\n",
    "            prisoner.Tries += 1\n",
    "            if myChoice.PrisonerNumber == prisoner.Number:\n",
    "                prisoner.Success = True\n",
    "                break\n",
    "            else:\n",
    "                myChoice = Boxes[myChoice.PrisonerNumber-1]\n",
    "    # if prisoners max tries are more than half of the boxes, then the return is true\n",
    "    for prisoner in Prisoners:\n",
    "        if prisoner.Tries > len(Boxes)/2:\n",
    "            return False\n",
    "            break\n",
    "    return True\n",
    "    \n"
   ]
  },
  {
   "cell_type": "code",
   "execution_count": 19,
   "metadata": {},
   "outputs": [
    {
     "name": "stdout",
     "output_type": "stream",
     "text": [
      "Successes: 324\n",
      "Fails: 676\n"
     ]
    }
   ],
   "source": [
    "Qty = 100\n",
    "\n",
    "successes = 0\n",
    "fails = 0\n",
    "\n",
    "x = 0\n",
    "\n",
    "while x < 1000:\n",
    "    if TestTheory(Qty):\n",
    "        successes += 1\n",
    "    else:\n",
    "        fails += 1\n",
    "    x += 1\n",
    "\n",
    "print(f\"Successes: {successes}\")\n",
    "print(f\"Fails: {fails}\")\n",
    "\n"
   ]
  }
 ],
 "metadata": {
  "kernelspec": {
   "display_name": "Python 3.10.1 64-bit",
   "language": "python",
   "name": "python3"
  },
  "language_info": {
   "codemirror_mode": {
    "name": "ipython",
    "version": 3
   },
   "file_extension": ".py",
   "mimetype": "text/x-python",
   "name": "python",
   "nbconvert_exporter": "python",
   "pygments_lexer": "ipython3",
   "version": "3.10.1"
  },
  "orig_nbformat": 4,
  "vscode": {
   "interpreter": {
    "hash": "26de051ba29f2982a8de78e945f0abaf191376122a1563185a90213a26c5da77"
   }
  }
 },
 "nbformat": 4,
 "nbformat_minor": 2
}
