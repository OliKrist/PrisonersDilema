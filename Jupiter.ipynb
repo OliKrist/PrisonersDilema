{
 "cells": [
  {
   "cell_type": "code",
   "execution_count": 6,
   "metadata": {},
   "outputs": [],
   "source": [
    "from numbers import Number\n",
    "import random\n",
    "import matplotlib.pyplot as plt\n",
    "from secrets import choice\n",
    "\n",
    "from torch import rand\n",
    "\n",
    "\n",
    "class Box:\n",
    "    def __init__(self, Number, PrisonerNumber):\n",
    "        self.Number = Number\n",
    "        self.PrisonerNumber = PrisonerNumber\n",
    "        self.Opened = False\n",
    "\n",
    "    def __str__(self):\n",
    "        return \"Box: \" + str(self.Number) + \" Prisoner: \" + str(self.PrisonerNumber)        \n",
    "\n",
    "def CreateBoxes(Qty):\n",
    "    Boxes = []\n",
    "    Numbers = []\n",
    "\n",
    "    for x in range(Qty):\n",
    "        Numbers.append(x+1)\n",
    "\n",
    "    random.shuffle(Numbers)\n",
    "\n",
    "    z = 1\n",
    "\n",
    "    for x in Numbers:\n",
    "        Boxes.append(Box(z, x))\n",
    "        z += 1\n",
    "        \n",
    "    return Boxes\n",
    "\n",
    "def ResetBoxes(Boxes):\n",
    "    for box in Boxes:\n",
    "        box.Opened = False\n",
    "    return Boxes\n",
    "    \n",
    "class Prisoner:\n",
    "    def __init__(self, Number):\n",
    "        self.Number = Number\n",
    "        self.Tries = 0\n",
    "        self.Success = False\n",
    "\n",
    "    def __str__(self):\n",
    "        return \"Prisoner: \" + str(self.Number) + \" Tries: \" + str(self.Tries)"
   ]
  },
  {
   "cell_type": "code",
   "execution_count": 7,
   "metadata": {},
   "outputs": [],
   "source": [
    "def Setting(Qty):\n",
    "    Prisoners = []\n",
    "    Boxes = CreateBoxes(Qty)\n",
    "    n = 1\n",
    "\n",
    "    while n <= Qty:\n",
    "        Prisoners.append(Prisoner(n))\n",
    "        n += 1\n",
    "\n",
    "    return Prisoners, Boxes\n"
   ]
  },
  {
   "cell_type": "code",
   "execution_count": 8,
   "metadata": {},
   "outputs": [],
   "source": [
    "## Random Strategy\n",
    "\n",
    "def TestOldTheory(Qty):\n",
    "    Settings = Setting(Qty)\n",
    "\n",
    "    Prisoners = Settings[0]\n",
    "    Boxes = Settings[1]\n",
    "\n",
    "    for prisoner in Prisoners:\n",
    "        Boxes = ResetBoxes(Boxes)\n",
    "        success = False\n",
    "        while not success:\n",
    "            myChoice = random.choice(Boxes)\n",
    "            if myChoice.Opened == False:\n",
    "                prisoner.Tries += 1\n",
    "                if myChoice.PrisonerNumber == prisoner.Number:\n",
    "                    success = True\n",
    "                    break\n",
    "                else:\n",
    "                    myChoice.Opened = True\n",
    "                    continue\n",
    "    for prisoner in Prisoners:\n",
    "        if prisoner.Tries > len(Boxes)/2:\n",
    "            return False\n",
    "    return True\n"
   ]
  },
  {
   "cell_type": "code",
   "execution_count": 10,
   "metadata": {},
   "outputs": [],
   "source": [
    "## New Strategy\n",
    "\n",
    "def TestTheory(Qty):\n",
    "    Settings = Setting(Qty)\n",
    "\n",
    "    Prisoners = Settings[0]\n",
    "    Boxes = Settings[1]\n",
    "    \n",
    "    for prisoner in Prisoners:\n",
    "        myChoice = Boxes[prisoner.Number-1]\n",
    "        while not prisoner.Success:\n",
    "            prisoner.Tries += 1\n",
    "            if myChoice.PrisonerNumber == prisoner.Number:\n",
    "                prisoner.Success = True\n",
    "                break\n",
    "            else:\n",
    "                myChoice = Boxes[myChoice.PrisonerNumber-1]\n",
    "    # if prisoners max tries are more than half of the boxes, then the return is true\n",
    "    for prisoner in Prisoners:\n",
    "        if prisoner.Tries > len(Boxes)/2:\n",
    "            return False\n",
    "    return True\n",
    "    \n"
   ]
  },
  {
   "cell_type": "code",
   "execution_count": 19,
   "metadata": {},
   "outputs": [
    {
     "name": "stdout",
     "output_type": "stream",
     "text": [
      "Successes: 3174\n",
      "Fails: 6826\n",
      "Chance to get success: 31.740000000000002%\n"
     ]
    }
   ],
   "source": [
    "Qty = 100\n",
    "\n",
    "successes = 0\n",
    "fails = 0\n",
    "\n",
    "x = 0\n",
    "\n",
    "Tests = 10000\n",
    "\n",
    "while x < Tests:\n",
    "    if TestTheory(Qty):\n",
    "        successes += 1\n",
    "    else:\n",
    "        fails += 1\n",
    "    x += 1\n",
    "\n",
    "print(f\"Successes: {successes}\")\n",
    "print(f\"Fails: {fails}\")\n",
    "\n",
    "print(f\"Chance to get success: {(successes/Tests)*100}%\")\n"
   ]
  }
 ],
 "metadata": {
  "kernelspec": {
   "display_name": "Python 3.10.1 64-bit",
   "language": "python",
   "name": "python3"
  },
  "language_info": {
   "codemirror_mode": {
    "name": "ipython",
    "version": 3
   },
   "file_extension": ".py",
   "mimetype": "text/x-python",
   "name": "python",
   "nbconvert_exporter": "python",
   "pygments_lexer": "ipython3",
   "version": "3.10.1"
  },
  "orig_nbformat": 4,
  "vscode": {
   "interpreter": {
    "hash": "26de051ba29f2982a8de78e945f0abaf191376122a1563185a90213a26c5da77"
   }
  }
 },
 "nbformat": 4,
 "nbformat_minor": 2
}
