{
 "cells": [
  {
   "cell_type": "code",
   "execution_count": 57,
   "metadata": {},
   "outputs": [],
   "source": [
    "from numbers import Number\n",
    "import random\n",
    "import matplotlib.pyplot as plt\n",
    "from secrets import choice\n",
    "\n",
    "from torch import rand\n",
    "\n",
    "\n",
    "class Box:\n",
    "    def __init__(self, Number, PrisonerNumber):\n",
    "        self.Number = Number\n",
    "        self.PrisonerNumber = PrisonerNumber\n",
    "        self.Opened = False\n",
    "\n",
    "    def __str__(self):\n",
    "        return \"Box: \" + str(self.Number) + \" Prisoner: \" + str(self.PrisonerNumber)        \n",
    "\n",
    "def CreateBoxes(Qty):\n",
    "    n = 1\n",
    "    Boxes = []\n",
    "    AssignedNumbers = []\n",
    "    while n <= Qty:\n",
    "        x = random.randint(1, Qty)\n",
    "        if x not in AssignedNumbers:\n",
    "            Boxes.append(Box(n, x))\n",
    "            AssignedNumbers.append(x)\n",
    "            n += 1\n",
    "    return Boxes\n",
    "\n",
    "def ResetBoxes(Boxes):\n",
    "    for box in Boxes:\n",
    "        box.Opened = False\n",
    "    return Boxes\n",
    "    \n",
    "class Prisoner:\n",
    "    def __init__(self, Number):\n",
    "        self.Number = Number\n",
    "        self.Tries = 0\n",
    "        self.Success = False\n",
    "\n",
    "    def __str__(self):\n",
    "        return \"Prisoner: \" + str(self.Number) + \" Tries: \" + str(self.Tries)\n",
    "\n",
    "\n",
    "def FillChoices(qty):\n",
    "    choices = []\n",
    "    for i in range(qty):\n",
    "        choices.append(i+1)\n",
    "    return choices\n"
   ]
  },
  {
   "cell_type": "code",
   "execution_count": 58,
   "metadata": {},
   "outputs": [],
   "source": [
    "def Setting(Qty):\n",
    "    Prisoners = []\n",
    "    Boxes = CreateBoxes(Qty)\n",
    "    n = 1\n",
    "\n",
    "    while n <= Qty:\n",
    "        Prisoners.append(Prisoner(n))\n",
    "        n += 1\n",
    "\n",
    "    return Prisoners, Boxes\n"
   ]
  },
  {
   "cell_type": "code",
   "execution_count": 59,
   "metadata": {},
   "outputs": [],
   "source": [
    "## Old Strategy\n",
    "\n",
    "def TestOldTheory(Qty):\n",
    "    Settings = Setting(Qty)\n",
    "\n",
    "    Prisoners = Settings[0]\n",
    "    Boxes = Settings[1]\n",
    "\n",
    "    for prisoner in Prisoners:\n",
    "        Boxes = ResetBoxes(Boxes)\n",
    "        success = False\n",
    "        while not success:\n",
    "            myChoice = random.choice(Boxes)\n",
    "            if myChoice.Opened == False:\n",
    "                prisoner.Tries += 1\n",
    "                if myChoice.PrisonerNumber == prisoner.Number:\n",
    "                    success = True\n",
    "                    break\n",
    "                else:\n",
    "                    myChoice.Opened = True\n",
    "                    continue\n",
    "    for prisoner in Prisoners:\n",
    "        if prisoner.Tries > len(Boxes)/2:\n",
    "            return False\n",
    "    return True\n"
   ]
  },
  {
   "cell_type": "code",
   "execution_count": 60,
   "metadata": {},
   "outputs": [
    {
     "name": "stdout",
     "output_type": "stream",
     "text": [
      "False\n"
     ]
    }
   ],
   "source": [
    "print(TestOldTheory(100))"
   ]
  },
  {
   "cell_type": "code",
   "execution_count": 61,
   "metadata": {},
   "outputs": [],
   "source": [
    "## New Strategy\n",
    "\n",
    "def TestTheory(Qty):\n",
    "    Settings = Setting(Qty)\n",
    "\n",
    "    Prisoners = Settings[0]\n",
    "    Boxes = Settings[1]\n",
    "    \n",
    "    for prisoner in Prisoners:\n",
    "        myChoice = Boxes[prisoner.Number-1]\n",
    "        while not prisoner.Success:\n",
    "            prisoner.Tries += 1\n",
    "            if myChoice.PrisonerNumber == prisoner.Number:\n",
    "                prisoner.Success = True\n",
    "                break\n",
    "            else:\n",
    "                myChoice = Boxes[myChoice.PrisonerNumber-1]\n",
    "    # if prisoners max tries are more than half of the boxes, then the return is true\n",
    "    for prisoner in Prisoners:\n",
    "        if prisoner.Tries > len(Boxes)/2:\n",
    "            return False\n",
    "    return True\n",
    "    \n"
   ]
  },
  {
   "cell_type": "code",
   "execution_count": 62,
   "metadata": {},
   "outputs": [
    {
     "ename": "KeyboardInterrupt",
     "evalue": "",
     "output_type": "error",
     "traceback": [
      "\u001b[1;31m---------------------------------------------------------------------------\u001b[0m",
      "\u001b[1;31mKeyboardInterrupt\u001b[0m                         Traceback (most recent call last)",
      "\u001b[1;32m~\\AppData\\Local\\Temp/ipykernel_21252/1421411040.py\u001b[0m in \u001b[0;36m<module>\u001b[1;34m\u001b[0m\n\u001b[0;32m      7\u001b[0m \u001b[1;33m\u001b[0m\u001b[0m\n\u001b[0;32m      8\u001b[0m \u001b[1;32mwhile\u001b[0m \u001b[0mx\u001b[0m \u001b[1;33m<\u001b[0m \u001b[1;36m100000\u001b[0m\u001b[1;33m:\u001b[0m\u001b[1;33m\u001b[0m\u001b[1;33m\u001b[0m\u001b[0m\n\u001b[1;32m----> 9\u001b[1;33m     \u001b[1;32mif\u001b[0m \u001b[0mTestOldTheory\u001b[0m\u001b[1;33m(\u001b[0m\u001b[0mQty\u001b[0m\u001b[1;33m)\u001b[0m\u001b[1;33m:\u001b[0m\u001b[1;33m\u001b[0m\u001b[1;33m\u001b[0m\u001b[0m\n\u001b[0m\u001b[0;32m     10\u001b[0m         \u001b[0msuccesses\u001b[0m \u001b[1;33m+=\u001b[0m \u001b[1;36m1\u001b[0m\u001b[1;33m\u001b[0m\u001b[1;33m\u001b[0m\u001b[0m\n\u001b[0;32m     11\u001b[0m     \u001b[1;32melse\u001b[0m\u001b[1;33m:\u001b[0m\u001b[1;33m\u001b[0m\u001b[1;33m\u001b[0m\u001b[0m\n",
      "\u001b[1;32m~\\AppData\\Local\\Temp/ipykernel_21252/342871314.py\u001b[0m in \u001b[0;36mTestOldTheory\u001b[1;34m(Qty)\u001b[0m\n\u001b[0;32m     11\u001b[0m         \u001b[0msuccess\u001b[0m \u001b[1;33m=\u001b[0m \u001b[1;32mFalse\u001b[0m\u001b[1;33m\u001b[0m\u001b[1;33m\u001b[0m\u001b[0m\n\u001b[0;32m     12\u001b[0m         \u001b[1;32mwhile\u001b[0m \u001b[1;32mnot\u001b[0m \u001b[0msuccess\u001b[0m\u001b[1;33m:\u001b[0m\u001b[1;33m\u001b[0m\u001b[1;33m\u001b[0m\u001b[0m\n\u001b[1;32m---> 13\u001b[1;33m             \u001b[0mmyChoice\u001b[0m \u001b[1;33m=\u001b[0m \u001b[0mrandom\u001b[0m\u001b[1;33m.\u001b[0m\u001b[0mchoice\u001b[0m\u001b[1;33m(\u001b[0m\u001b[0mBoxes\u001b[0m\u001b[1;33m)\u001b[0m\u001b[1;33m\u001b[0m\u001b[1;33m\u001b[0m\u001b[0m\n\u001b[0m\u001b[0;32m     14\u001b[0m             \u001b[1;32mif\u001b[0m \u001b[0mmyChoice\u001b[0m\u001b[1;33m.\u001b[0m\u001b[0mOpened\u001b[0m \u001b[1;33m==\u001b[0m \u001b[1;32mFalse\u001b[0m\u001b[1;33m:\u001b[0m\u001b[1;33m\u001b[0m\u001b[1;33m\u001b[0m\u001b[0m\n\u001b[0;32m     15\u001b[0m                 \u001b[0mprisoner\u001b[0m\u001b[1;33m.\u001b[0m\u001b[0mTries\u001b[0m \u001b[1;33m+=\u001b[0m \u001b[1;36m1\u001b[0m\u001b[1;33m\u001b[0m\u001b[1;33m\u001b[0m\u001b[0m\n",
      "\u001b[1;32mc:\\Program Files\\Python310\\lib\\random.py\u001b[0m in \u001b[0;36mchoice\u001b[1;34m(self, seq)\u001b[0m\n\u001b[0;32m    376\u001b[0m         \u001b[1;34m\"\"\"Choose a random element from a non-empty sequence.\"\"\"\u001b[0m\u001b[1;33m\u001b[0m\u001b[1;33m\u001b[0m\u001b[0m\n\u001b[0;32m    377\u001b[0m         \u001b[1;31m# raises IndexError if seq is empty\u001b[0m\u001b[1;33m\u001b[0m\u001b[1;33m\u001b[0m\u001b[0m\n\u001b[1;32m--> 378\u001b[1;33m         \u001b[1;32mreturn\u001b[0m \u001b[0mseq\u001b[0m\u001b[1;33m[\u001b[0m\u001b[0mself\u001b[0m\u001b[1;33m.\u001b[0m\u001b[0m_randbelow\u001b[0m\u001b[1;33m(\u001b[0m\u001b[0mlen\u001b[0m\u001b[1;33m(\u001b[0m\u001b[0mseq\u001b[0m\u001b[1;33m)\u001b[0m\u001b[1;33m)\u001b[0m\u001b[1;33m]\u001b[0m\u001b[1;33m\u001b[0m\u001b[1;33m\u001b[0m\u001b[0m\n\u001b[0m\u001b[0;32m    379\u001b[0m \u001b[1;33m\u001b[0m\u001b[0m\n\u001b[0;32m    380\u001b[0m     \u001b[1;32mdef\u001b[0m \u001b[0mshuffle\u001b[0m\u001b[1;33m(\u001b[0m\u001b[0mself\u001b[0m\u001b[1;33m,\u001b[0m \u001b[0mx\u001b[0m\u001b[1;33m,\u001b[0m \u001b[0mrandom\u001b[0m\u001b[1;33m=\u001b[0m\u001b[1;32mNone\u001b[0m\u001b[1;33m)\u001b[0m\u001b[1;33m:\u001b[0m\u001b[1;33m\u001b[0m\u001b[1;33m\u001b[0m\u001b[0m\n",
      "\u001b[1;32mc:\\Program Files\\Python310\\lib\\random.py\u001b[0m in \u001b[0;36m_randbelow_with_getrandbits\u001b[1;34m(self, n)\u001b[0m\n\u001b[0;32m    245\u001b[0m         \u001b[0mk\u001b[0m \u001b[1;33m=\u001b[0m \u001b[0mn\u001b[0m\u001b[1;33m.\u001b[0m\u001b[0mbit_length\u001b[0m\u001b[1;33m(\u001b[0m\u001b[1;33m)\u001b[0m  \u001b[1;31m# don't use (n-1) here because n can be 1\u001b[0m\u001b[1;33m\u001b[0m\u001b[1;33m\u001b[0m\u001b[0m\n\u001b[0;32m    246\u001b[0m         \u001b[0mr\u001b[0m \u001b[1;33m=\u001b[0m \u001b[0mgetrandbits\u001b[0m\u001b[1;33m(\u001b[0m\u001b[0mk\u001b[0m\u001b[1;33m)\u001b[0m  \u001b[1;31m# 0 <= r < 2**k\u001b[0m\u001b[1;33m\u001b[0m\u001b[1;33m\u001b[0m\u001b[0m\n\u001b[1;32m--> 247\u001b[1;33m         \u001b[1;32mwhile\u001b[0m \u001b[0mr\u001b[0m \u001b[1;33m>=\u001b[0m \u001b[0mn\u001b[0m\u001b[1;33m:\u001b[0m\u001b[1;33m\u001b[0m\u001b[1;33m\u001b[0m\u001b[0m\n\u001b[0m\u001b[0;32m    248\u001b[0m             \u001b[0mr\u001b[0m \u001b[1;33m=\u001b[0m \u001b[0mgetrandbits\u001b[0m\u001b[1;33m(\u001b[0m\u001b[0mk\u001b[0m\u001b[1;33m)\u001b[0m\u001b[1;33m\u001b[0m\u001b[1;33m\u001b[0m\u001b[0m\n\u001b[0;32m    249\u001b[0m         \u001b[1;32mreturn\u001b[0m \u001b[0mr\u001b[0m\u001b[1;33m\u001b[0m\u001b[1;33m\u001b[0m\u001b[0m\n",
      "\u001b[1;31mKeyboardInterrupt\u001b[0m: "
     ]
    }
   ],
   "source": [
    "Qty = 100\n",
    "\n",
    "successes = 0\n",
    "fails = 0\n",
    "\n",
    "x = 0\n",
    "\n",
    "while x < 100000:\n",
    "    if TestOldTheory(Qty):\n",
    "        successes += 1\n",
    "    else:\n",
    "        fails += 1\n",
    "    x += 1\n",
    "\n",
    "print(f\"Successes: {successes}\")\n",
    "print(f\"Fails: {fails}\")\n",
    "\n"
   ]
  }
 ],
 "metadata": {
  "kernelspec": {
   "display_name": "Python 3.10.1 64-bit",
   "language": "python",
   "name": "python3"
  },
  "language_info": {
   "codemirror_mode": {
    "name": "ipython",
    "version": 3
   },
   "file_extension": ".py",
   "mimetype": "text/x-python",
   "name": "python",
   "nbconvert_exporter": "python",
   "pygments_lexer": "ipython3",
   "version": "3.10.1"
  },
  "orig_nbformat": 4,
  "vscode": {
   "interpreter": {
    "hash": "26de051ba29f2982a8de78e945f0abaf191376122a1563185a90213a26c5da77"
   }
  }
 },
 "nbformat": 4,
 "nbformat_minor": 2
}
